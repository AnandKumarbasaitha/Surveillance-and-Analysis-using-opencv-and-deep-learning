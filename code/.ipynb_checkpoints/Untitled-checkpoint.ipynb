{
 "cells": [
  {
   "cell_type": "code",
   "execution_count": null,
   "metadata": {},
   "outputs": [],
   "source": [
    "# Importing Libraries(Technologies)\n",
    "from math import sqrt\n",
    "#from pandas_datareader import data \n",
    "import matplotlib.pyplot as plt\n",
    "import scipy\n",
    "import pandas as pd\n",
    "import datetime as dt\n",
    "import urllib.request,json\n",
    "import os\n",
    "import numpy as np\n",
    "import tensorflow as tf\n",
    "from sklearn.preprocessing import MinMaxScaler\n",
    "from sklearn.metrics import mean_squared_error\n",
    "\n",
    "from keras.models import Sequential\n",
    "from keras.layers import Dense,LSTM"
   ]
  },
  {
   "cell_type": "code",
   "execution_count": 74,
   "metadata": {},
   "outputs": [],
   "source": [
    "df=pd.read_csv('C:\\\\Users\\\\Apoorv Jain\\\\Documents\\\\GitHub\\\\air-pollution-index\\\\train.csv')"
   ]
  },
  {
   "cell_type": "code",
   "execution_count": 4,
   "metadata": {},
   "outputs": [
    {
     "data": {
      "text/html": [
       "<div>\n",
       "<style scoped>\n",
       "    .dataframe tbody tr th:only-of-type {\n",
       "        vertical-align: middle;\n",
       "    }\n",
       "\n",
       "    .dataframe tbody tr th {\n",
       "        vertical-align: top;\n",
       "    }\n",
       "\n",
       "    .dataframe thead th {\n",
       "        text-align: right;\n",
       "    }\n",
       "</style>\n",
       "<table border=\"1\" class=\"dataframe\">\n",
       "  <thead>\n",
       "    <tr style=\"text-align: right;\">\n",
       "      <th></th>\n",
       "      <th>date_time</th>\n",
       "      <th>is_holiday</th>\n",
       "      <th>humidity</th>\n",
       "      <th>wind_speed</th>\n",
       "      <th>wind_direction</th>\n",
       "      <th>visibility_in_miles</th>\n",
       "      <th>dew_point</th>\n",
       "      <th>temperature</th>\n",
       "      <th>rain_p_h</th>\n",
       "      <th>snow_p_h</th>\n",
       "      <th>clouds_all</th>\n",
       "      <th>weather_type</th>\n",
       "      <th>air_pollution_index</th>\n",
       "      <th>traffic_volume</th>\n",
       "    </tr>\n",
       "  </thead>\n",
       "  <tbody>\n",
       "    <tr>\n",
       "      <td>0</td>\n",
       "      <td>2012-10-02 09:00:00</td>\n",
       "      <td>None</td>\n",
       "      <td>89</td>\n",
       "      <td>2</td>\n",
       "      <td>329</td>\n",
       "      <td>1</td>\n",
       "      <td>1</td>\n",
       "      <td>288.28</td>\n",
       "      <td>0.0</td>\n",
       "      <td>0.0</td>\n",
       "      <td>40</td>\n",
       "      <td>Clouds</td>\n",
       "      <td>121</td>\n",
       "      <td>5545</td>\n",
       "    </tr>\n",
       "    <tr>\n",
       "      <td>1</td>\n",
       "      <td>2012-10-02 10:00:00</td>\n",
       "      <td>None</td>\n",
       "      <td>67</td>\n",
       "      <td>3</td>\n",
       "      <td>330</td>\n",
       "      <td>1</td>\n",
       "      <td>1</td>\n",
       "      <td>289.36</td>\n",
       "      <td>0.0</td>\n",
       "      <td>0.0</td>\n",
       "      <td>75</td>\n",
       "      <td>Clouds</td>\n",
       "      <td>178</td>\n",
       "      <td>4516</td>\n",
       "    </tr>\n",
       "    <tr>\n",
       "      <td>2</td>\n",
       "      <td>2012-10-02 11:00:00</td>\n",
       "      <td>None</td>\n",
       "      <td>66</td>\n",
       "      <td>3</td>\n",
       "      <td>329</td>\n",
       "      <td>2</td>\n",
       "      <td>2</td>\n",
       "      <td>289.58</td>\n",
       "      <td>0.0</td>\n",
       "      <td>0.0</td>\n",
       "      <td>90</td>\n",
       "      <td>Clouds</td>\n",
       "      <td>113</td>\n",
       "      <td>4767</td>\n",
       "    </tr>\n",
       "    <tr>\n",
       "      <td>3</td>\n",
       "      <td>2012-10-02 12:00:00</td>\n",
       "      <td>None</td>\n",
       "      <td>66</td>\n",
       "      <td>3</td>\n",
       "      <td>329</td>\n",
       "      <td>5</td>\n",
       "      <td>5</td>\n",
       "      <td>290.13</td>\n",
       "      <td>0.0</td>\n",
       "      <td>0.0</td>\n",
       "      <td>90</td>\n",
       "      <td>Clouds</td>\n",
       "      <td>20</td>\n",
       "      <td>5026</td>\n",
       "    </tr>\n",
       "    <tr>\n",
       "      <td>4</td>\n",
       "      <td>2012-10-02 13:00:00</td>\n",
       "      <td>None</td>\n",
       "      <td>65</td>\n",
       "      <td>3</td>\n",
       "      <td>329</td>\n",
       "      <td>7</td>\n",
       "      <td>7</td>\n",
       "      <td>291.14</td>\n",
       "      <td>0.0</td>\n",
       "      <td>0.0</td>\n",
       "      <td>75</td>\n",
       "      <td>Clouds</td>\n",
       "      <td>281</td>\n",
       "      <td>4918</td>\n",
       "    </tr>\n",
       "  </tbody>\n",
       "</table>\n",
       "</div>"
      ],
      "text/plain": [
       "             date_time is_holiday  humidity  wind_speed  wind_direction  \\\n",
       "0  2012-10-02 09:00:00       None        89           2             329   \n",
       "1  2012-10-02 10:00:00       None        67           3             330   \n",
       "2  2012-10-02 11:00:00       None        66           3             329   \n",
       "3  2012-10-02 12:00:00       None        66           3             329   \n",
       "4  2012-10-02 13:00:00       None        65           3             329   \n",
       "\n",
       "   visibility_in_miles  dew_point  temperature  rain_p_h  snow_p_h  \\\n",
       "0                    1          1       288.28       0.0       0.0   \n",
       "1                    1          1       289.36       0.0       0.0   \n",
       "2                    2          2       289.58       0.0       0.0   \n",
       "3                    5          5       290.13       0.0       0.0   \n",
       "4                    7          7       291.14       0.0       0.0   \n",
       "\n",
       "   clouds_all weather_type  air_pollution_index  traffic_volume  \n",
       "0          40       Clouds                  121            5545  \n",
       "1          75       Clouds                  178            4516  \n",
       "2          90       Clouds                  113            4767  \n",
       "3          90       Clouds                   20            5026  \n",
       "4          75       Clouds                  281            4918  "
      ]
     },
     "execution_count": 4,
     "metadata": {},
     "output_type": "execute_result"
    }
   ],
   "source": [
    "df.head()"
   ]
  },
  {
   "cell_type": "code",
   "execution_count": 61,
   "metadata": {},
   "outputs": [
    {
     "data": {
      "text/html": [
       "<div>\n",
       "<style scoped>\n",
       "    .dataframe tbody tr th:only-of-type {\n",
       "        vertical-align: middle;\n",
       "    }\n",
       "\n",
       "    .dataframe tbody tr th {\n",
       "        vertical-align: top;\n",
       "    }\n",
       "\n",
       "    .dataframe thead th {\n",
       "        text-align: right;\n",
       "    }\n",
       "</style>\n",
       "<table border=\"1\" class=\"dataframe\">\n",
       "  <thead>\n",
       "    <tr style=\"text-align: right;\">\n",
       "      <th></th>\n",
       "      <th>humidity</th>\n",
       "      <th>wind_speed</th>\n",
       "      <th>wind_direction</th>\n",
       "      <th>visibility_in_miles</th>\n",
       "      <th>dew_point</th>\n",
       "      <th>temperature</th>\n",
       "      <th>rain_p_h</th>\n",
       "      <th>snow_p_h</th>\n",
       "      <th>clouds_all</th>\n",
       "      <th>air_pollution_index</th>\n",
       "      <th>traffic_volume</th>\n",
       "    </tr>\n",
       "  </thead>\n",
       "  <tbody>\n",
       "    <tr>\n",
       "      <td>count</td>\n",
       "      <td>33750.000000</td>\n",
       "      <td>33750.000000</td>\n",
       "      <td>33750.000000</td>\n",
       "      <td>33750.000000</td>\n",
       "      <td>33750.000000</td>\n",
       "      <td>33750.000000</td>\n",
       "      <td>33750.000000</td>\n",
       "      <td>33750.000000</td>\n",
       "      <td>33750.000000</td>\n",
       "      <td>33750.000000</td>\n",
       "      <td>33750.000000</td>\n",
       "    </tr>\n",
       "    <tr>\n",
       "      <td>mean</td>\n",
       "      <td>71.209007</td>\n",
       "      <td>3.378193</td>\n",
       "      <td>199.471852</td>\n",
       "      <td>4.989748</td>\n",
       "      <td>4.989748</td>\n",
       "      <td>280.069587</td>\n",
       "      <td>0.448739</td>\n",
       "      <td>0.000318</td>\n",
       "      <td>50.458785</td>\n",
       "      <td>154.841422</td>\n",
       "      <td>3240.118163</td>\n",
       "    </tr>\n",
       "    <tr>\n",
       "      <td>std</td>\n",
       "      <td>16.852248</td>\n",
       "      <td>2.055792</td>\n",
       "      <td>99.841088</td>\n",
       "      <td>2.570021</td>\n",
       "      <td>2.570021</td>\n",
       "      <td>13.415256</td>\n",
       "      <td>53.526500</td>\n",
       "      <td>0.009760</td>\n",
       "      <td>38.871734</td>\n",
       "      <td>83.735515</td>\n",
       "      <td>1991.487289</td>\n",
       "    </tr>\n",
       "    <tr>\n",
       "      <td>min</td>\n",
       "      <td>13.000000</td>\n",
       "      <td>0.000000</td>\n",
       "      <td>0.000000</td>\n",
       "      <td>1.000000</td>\n",
       "      <td>1.000000</td>\n",
       "      <td>0.000000</td>\n",
       "      <td>0.000000</td>\n",
       "      <td>0.000000</td>\n",
       "      <td>0.000000</td>\n",
       "      <td>10.000000</td>\n",
       "      <td>0.000000</td>\n",
       "    </tr>\n",
       "    <tr>\n",
       "      <td>25%</td>\n",
       "      <td>60.000000</td>\n",
       "      <td>2.000000</td>\n",
       "      <td>130.000000</td>\n",
       "      <td>3.000000</td>\n",
       "      <td>3.000000</td>\n",
       "      <td>271.720000</td>\n",
       "      <td>0.000000</td>\n",
       "      <td>0.000000</td>\n",
       "      <td>1.000000</td>\n",
       "      <td>83.000000</td>\n",
       "      <td>1165.250000</td>\n",
       "    </tr>\n",
       "    <tr>\n",
       "      <td>50%</td>\n",
       "      <td>72.000000</td>\n",
       "      <td>3.000000</td>\n",
       "      <td>200.000000</td>\n",
       "      <td>5.000000</td>\n",
       "      <td>5.000000</td>\n",
       "      <td>280.150000</td>\n",
       "      <td>0.000000</td>\n",
       "      <td>0.000000</td>\n",
       "      <td>64.000000</td>\n",
       "      <td>155.000000</td>\n",
       "      <td>3335.000000</td>\n",
       "    </tr>\n",
       "    <tr>\n",
       "      <td>75%</td>\n",
       "      <td>85.000000</td>\n",
       "      <td>5.000000</td>\n",
       "      <td>290.000000</td>\n",
       "      <td>7.000000</td>\n",
       "      <td>7.000000</td>\n",
       "      <td>290.620000</td>\n",
       "      <td>0.000000</td>\n",
       "      <td>0.000000</td>\n",
       "      <td>90.000000</td>\n",
       "      <td>228.000000</td>\n",
       "      <td>4926.000000</td>\n",
       "    </tr>\n",
       "    <tr>\n",
       "      <td>max</td>\n",
       "      <td>100.000000</td>\n",
       "      <td>16.000000</td>\n",
       "      <td>360.000000</td>\n",
       "      <td>9.000000</td>\n",
       "      <td>9.000000</td>\n",
       "      <td>308.240000</td>\n",
       "      <td>9831.300000</td>\n",
       "      <td>0.510000</td>\n",
       "      <td>100.000000</td>\n",
       "      <td>299.000000</td>\n",
       "      <td>7280.000000</td>\n",
       "    </tr>\n",
       "  </tbody>\n",
       "</table>\n",
       "</div>"
      ],
      "text/plain": [
       "           humidity    wind_speed  wind_direction  visibility_in_miles  \\\n",
       "count  33750.000000  33750.000000    33750.000000         33750.000000   \n",
       "mean      71.209007      3.378193      199.471852             4.989748   \n",
       "std       16.852248      2.055792       99.841088             2.570021   \n",
       "min       13.000000      0.000000        0.000000             1.000000   \n",
       "25%       60.000000      2.000000      130.000000             3.000000   \n",
       "50%       72.000000      3.000000      200.000000             5.000000   \n",
       "75%       85.000000      5.000000      290.000000             7.000000   \n",
       "max      100.000000     16.000000      360.000000             9.000000   \n",
       "\n",
       "          dew_point   temperature      rain_p_h      snow_p_h    clouds_all  \\\n",
       "count  33750.000000  33750.000000  33750.000000  33750.000000  33750.000000   \n",
       "mean       4.989748    280.069587      0.448739      0.000318     50.458785   \n",
       "std        2.570021     13.415256     53.526500      0.009760     38.871734   \n",
       "min        1.000000      0.000000      0.000000      0.000000      0.000000   \n",
       "25%        3.000000    271.720000      0.000000      0.000000      1.000000   \n",
       "50%        5.000000    280.150000      0.000000      0.000000     64.000000   \n",
       "75%        7.000000    290.620000      0.000000      0.000000     90.000000   \n",
       "max        9.000000    308.240000   9831.300000      0.510000    100.000000   \n",
       "\n",
       "       air_pollution_index  traffic_volume  \n",
       "count         33750.000000    33750.000000  \n",
       "mean            154.841422     3240.118163  \n",
       "std              83.735515     1991.487289  \n",
       "min              10.000000        0.000000  \n",
       "25%              83.000000     1165.250000  \n",
       "50%             155.000000     3335.000000  \n",
       "75%             228.000000     4926.000000  \n",
       "max             299.000000     7280.000000  "
      ]
     },
     "execution_count": 61,
     "metadata": {},
     "output_type": "execute_result"
    }
   ],
   "source": [
    "df.describe()"
   ]
  },
  {
   "cell_type": "code",
   "execution_count": 6,
   "metadata": {},
   "outputs": [
    {
     "name": "stdout",
     "output_type": "stream",
     "text": [
      "<class 'pandas.core.frame.DataFrame'>\n",
      "RangeIndex: 33750 entries, 0 to 33749\n",
      "Data columns (total 14 columns):\n",
      "date_time              33750 non-null object\n",
      "is_holiday             33750 non-null object\n",
      "humidity               33750 non-null int64\n",
      "wind_speed             33750 non-null int64\n",
      "wind_direction         33750 non-null int64\n",
      "visibility_in_miles    33750 non-null int64\n",
      "dew_point              33750 non-null int64\n",
      "temperature            33750 non-null float64\n",
      "rain_p_h               33750 non-null float64\n",
      "snow_p_h               33750 non-null float64\n",
      "clouds_all             33750 non-null int64\n",
      "weather_type           33750 non-null object\n",
      "air_pollution_index    33750 non-null int64\n",
      "traffic_volume         33750 non-null int64\n",
      "dtypes: float64(3), int64(8), object(3)\n",
      "memory usage: 3.6+ MB\n"
     ]
    }
   ],
   "source": [
    "df.info()"
   ]
  },
  {
   "cell_type": "code",
   "execution_count": 7,
   "metadata": {},
   "outputs": [
    {
     "data": {
      "text/plain": [
       "date_time              0\n",
       "is_holiday             0\n",
       "humidity               0\n",
       "wind_speed             0\n",
       "wind_direction         0\n",
       "visibility_in_miles    0\n",
       "dew_point              0\n",
       "temperature            0\n",
       "rain_p_h               0\n",
       "snow_p_h               0\n",
       "clouds_all             0\n",
       "weather_type           0\n",
       "air_pollution_index    0\n",
       "traffic_volume         0\n",
       "dtype: int64"
      ]
     },
     "execution_count": 7,
     "metadata": {},
     "output_type": "execute_result"
    }
   ],
   "source": [
    "df.isnull().sum()"
   ]
  },
  {
   "cell_type": "code",
   "execution_count": 8,
   "metadata": {},
   "outputs": [
    {
     "data": {
      "text/plain": [
       "<matplotlib.axes._subplots.AxesSubplot at 0x1aa694133c8>"
      ]
     },
     "execution_count": 8,
     "metadata": {},
     "output_type": "execute_result"
    },
    {
     "data": {
      "image/png": "[encoded data removed]",
      "text/plain": [
       "<Figure size 432x288 with 1 Axes>"
      ]
     },
     "metadata": {
      "needs_background": "light"
     },
     "output_type": "display_data"
    }
   ],
   "source": [
    "#EDA\n",
    "df.boxplot(rot=90)"
   ]
  },
  {
   "cell_type": "code",
   "execution_count": null,
   "metadata": {},
   "outputs": [],
   "source": [
    "plt.figure(figsize=(16,6))\n",
    "plt.scatter(df['date_time'],df['air_pollution_index'])\n",
    "plt.show()"
   ]
  },
  {
   "cell_type": "code",
   "execution_count": null,
   "metadata": {},
   "outputs": [],
   "source": [
    "\n",
    "\n",
    "\n",
    "plt.figure(figsize=(16,6))\n",
    "df.groupby('is_holiday').air_pollution_index.mean().plot(kind='bar').set_xlabel('holiday name')"
   ]
  },
  {
   "cell_type": "code",
   "execution_count": 39,
   "metadata": {},
   "outputs": [
    {
     "data": {
      "text/plain": [
       "Text(0, 0.5, 'air pol index')"
      ]
     },
     "execution_count": 39,
     "metadata": {},
     "output_type": "execute_result"
    },
    {
     "data": {
      "image/png": "[encoded data removed]",
      "text/plain": [
       "<Figure size 1152x720 with 1 Axes>"
      ]
     },
     "metadata": {
      "needs_background": "light"
     },
     "output_type": "display_data"
    }
   ],
   "source": [
    "plt.figure(figsize=(16,10))\n",
    "plt.scatter(df['humidity'],df['air_pollution_index'])\n",
    "plt.xlabel('humidity')\n",
    "plt.ylabel('air pol index')\n"
   ]
  },
  {
   "cell_type": "code",
   "execution_count": 45,
   "metadata": {},
   "outputs": [
    {
     "data": {
      "text/plain": [
       "Text(0.5, 0, 'wind_speed')"
      ]
     },
     "execution_count": 45,
     "metadata": {},
     "output_type": "execute_result"
    },
    {
     "data": {
      "image/png": "[encoded data removed]",
      "text/plain": [
       "<Figure size 1152x432 with 1 Axes>"
      ]
     },
     "metadata": {
      "needs_background": "light"
     },
     "output_type": "display_data"
    }
   ],
   "source": [
    "plt.figure(figsize=(16,6))\n",
    "plt.hist(df['wind_speed'],bins=[0,5,10,15,20])\n",
    "plt.xlabel('wind_speed')\n",
    "#plt.ylabel('air pol index')\n"
   ]
  },
  {
   "cell_type": "code",
   "execution_count": 46,
   "metadata": {},
   "outputs": [
    {
     "data": {
      "text/plain": [
       "Text(0.5, 0, 'wind_direction')"
      ]
     },
     "execution_count": 46,
     "metadata": {},
     "output_type": "execute_result"
    },
    {
     "data": {
      "image/png": "[encoded data removed]",
      "text/plain": [
       "<Figure size 1152x432 with 1 Axes>"
      ]
     },
     "metadata": {
      "needs_background": "light"
     },
     "output_type": "display_data"
    }
   ],
   "source": [
    "plt.figure(figsize=(16,6))\n",
    "plt.hist(df['wind_direction'],bins=[0,50,100,200,250,300,360,400])\n",
    "plt.xlabel('wind_direction')\n",
    "#plt.ylabel('air pol index')\n"
   ]
  },
  {
   "cell_type": "code",
   "execution_count": 57,
   "metadata": {},
   "outputs": [
    {
     "data": {
      "text/plain": [
       "Text(0.5, 0, 'wind_direction')"
      ]
     },
     "execution_count": 57,
     "metadata": {},
     "output_type": "execute_result"
    },
    {
     "data": {
      "image/png": "[encoded data removed]",
      "text/plain": [
       "<Figure size 1152x432 with 1 Axes>"
      ]
     },
     "metadata": {
      "needs_background": "light"
     },
     "output_type": "display_data"
    }
   ],
   "source": [
    "plt.figure(figsize=(16,6))\n",
    "plt.hist(df['temperature'])\n",
    "plt.xlabel('wind_direction')\n",
    "#plt.ylabel('air pol index')"
   ]
  },
  {
   "cell_type": "code",
   "execution_count": 48,
   "metadata": {},
   "outputs": [
    {
     "data": {
      "text/plain": [
       "Text(0.5, 0, 'temp')"
      ]
     },
     "execution_count": 48,
     "metadata": {},
     "output_type": "execute_result"
    },
    {
     "data": {
      "image/png": "[encoded data removed]",
      "text/plain": [
       "<Figure size 1152x432 with 1 Axes>"
      ]
     },
     "metadata": {
      "needs_background": "light"
     },
     "output_type": "display_data"
    }
   ],
   "source": [
    "plt.figure(figsize=(16,6))\n",
    "plt.scatter(df['temperature'],df['air_pollution_index'])\n",
    "plt.xlabel('temp')\n",
    "#plt.ylabel('air pol index')\n"
   ]
  },
  {
   "cell_type": "code",
   "execution_count": 53,
   "metadata": {},
   "outputs": [
    {
     "data": {
      "text/plain": [
       "(array([11898, 11899, 11900, 11901, 11946, 11947, 11948, 11949, 11950,\n",
       "        11951], dtype=int64),)"
      ]
     },
     "execution_count": 53,
     "metadata": {},
     "output_type": "execute_result"
    }
   ],
   "source": [
    "np.where(df['temperature']==0.0)"
   ]
  },
  {
   "cell_type": "code",
   "execution_count": 9,
   "metadata": {},
   "outputs": [
    {
     "data": {
      "text/html": [
       "<div>\n",
       "<style scoped>\n",
       "    .dataframe tbody tr th:only-of-type {\n",
       "        vertical-align: middle;\n",
       "    }\n",
       "\n",
       "    .dataframe tbody tr th {\n",
       "        vertical-align: top;\n",
       "    }\n",
       "\n",
       "    .dataframe thead th {\n",
       "        text-align: right;\n",
       "    }\n",
       "</style>\n",
       "<table border=\"1\" class=\"dataframe\">\n",
       "  <thead>\n",
       "    <tr style=\"text-align: right;\">\n",
       "      <th></th>\n",
       "      <th>date_time</th>\n",
       "      <th>is_holiday</th>\n",
       "      <th>humidity</th>\n",
       "      <th>wind_speed</th>\n",
       "      <th>wind_direction</th>\n",
       "      <th>visibility_in_miles</th>\n",
       "      <th>dew_point</th>\n",
       "      <th>temperature</th>\n",
       "      <th>rain_p_h</th>\n",
       "      <th>snow_p_h</th>\n",
       "      <th>clouds_all</th>\n",
       "      <th>weather_type</th>\n",
       "      <th>air_pollution_index</th>\n",
       "      <th>traffic_volume</th>\n",
       "    </tr>\n",
       "  </thead>\n",
       "  <tbody>\n",
       "    <tr>\n",
       "      <td>11898</td>\n",
       "      <td>2014-01-31 03:00:00</td>\n",
       "      <td>None</td>\n",
       "      <td>78</td>\n",
       "      <td>2</td>\n",
       "      <td>320</td>\n",
       "      <td>1</td>\n",
       "      <td>1</td>\n",
       "      <td>0.0</td>\n",
       "      <td>0.0</td>\n",
       "      <td>0.0</td>\n",
       "      <td>0</td>\n",
       "      <td>Clear</td>\n",
       "      <td>26</td>\n",
       "      <td>361</td>\n",
       "    </tr>\n",
       "    <tr>\n",
       "      <td>11899</td>\n",
       "      <td>2014-01-31 04:00:00</td>\n",
       "      <td>None</td>\n",
       "      <td>77</td>\n",
       "      <td>3</td>\n",
       "      <td>310</td>\n",
       "      <td>1</td>\n",
       "      <td>1</td>\n",
       "      <td>0.0</td>\n",
       "      <td>0.0</td>\n",
       "      <td>0.0</td>\n",
       "      <td>0</td>\n",
       "      <td>Clear</td>\n",
       "      <td>18</td>\n",
       "      <td>734</td>\n",
       "    </tr>\n",
       "    <tr>\n",
       "      <td>11900</td>\n",
       "      <td>2014-01-31 05:00:00</td>\n",
       "      <td>None</td>\n",
       "      <td>84</td>\n",
       "      <td>3</td>\n",
       "      <td>310</td>\n",
       "      <td>1</td>\n",
       "      <td>1</td>\n",
       "      <td>0.0</td>\n",
       "      <td>0.0</td>\n",
       "      <td>0.0</td>\n",
       "      <td>0</td>\n",
       "      <td>Clear</td>\n",
       "      <td>189</td>\n",
       "      <td>2557</td>\n",
       "    </tr>\n",
       "    <tr>\n",
       "      <td>11901</td>\n",
       "      <td>2014-01-31 06:00:00</td>\n",
       "      <td>None</td>\n",
       "      <td>84</td>\n",
       "      <td>4</td>\n",
       "      <td>320</td>\n",
       "      <td>1</td>\n",
       "      <td>1</td>\n",
       "      <td>0.0</td>\n",
       "      <td>0.0</td>\n",
       "      <td>0.0</td>\n",
       "      <td>0</td>\n",
       "      <td>Clear</td>\n",
       "      <td>12</td>\n",
       "      <td>5150</td>\n",
       "    </tr>\n",
       "    <tr>\n",
       "      <td>11946</td>\n",
       "      <td>2014-02-02 03:00:00</td>\n",
       "      <td>None</td>\n",
       "      <td>70</td>\n",
       "      <td>0</td>\n",
       "      <td>0</td>\n",
       "      <td>1</td>\n",
       "      <td>1</td>\n",
       "      <td>0.0</td>\n",
       "      <td>0.0</td>\n",
       "      <td>0.0</td>\n",
       "      <td>0</td>\n",
       "      <td>Clear</td>\n",
       "      <td>250</td>\n",
       "      <td>291</td>\n",
       "    </tr>\n",
       "    <tr>\n",
       "      <td>11947</td>\n",
       "      <td>2014-02-02 04:00:00</td>\n",
       "      <td>None</td>\n",
       "      <td>76</td>\n",
       "      <td>0</td>\n",
       "      <td>0</td>\n",
       "      <td>3</td>\n",
       "      <td>3</td>\n",
       "      <td>0.0</td>\n",
       "      <td>0.0</td>\n",
       "      <td>0.0</td>\n",
       "      <td>0</td>\n",
       "      <td>Clear</td>\n",
       "      <td>154</td>\n",
       "      <td>284</td>\n",
       "    </tr>\n",
       "    <tr>\n",
       "      <td>11948</td>\n",
       "      <td>2014-02-02 05:00:00</td>\n",
       "      <td>None</td>\n",
       "      <td>83</td>\n",
       "      <td>2</td>\n",
       "      <td>220</td>\n",
       "      <td>2</td>\n",
       "      <td>2</td>\n",
       "      <td>0.0</td>\n",
       "      <td>0.0</td>\n",
       "      <td>0.0</td>\n",
       "      <td>0</td>\n",
       "      <td>Clear</td>\n",
       "      <td>151</td>\n",
       "      <td>434</td>\n",
       "    </tr>\n",
       "    <tr>\n",
       "      <td>11949</td>\n",
       "      <td>2014-02-02 06:00:00</td>\n",
       "      <td>None</td>\n",
       "      <td>83</td>\n",
       "      <td>0</td>\n",
       "      <td>0</td>\n",
       "      <td>2</td>\n",
       "      <td>2</td>\n",
       "      <td>0.0</td>\n",
       "      <td>0.0</td>\n",
       "      <td>0.0</td>\n",
       "      <td>0</td>\n",
       "      <td>Clear</td>\n",
       "      <td>174</td>\n",
       "      <td>739</td>\n",
       "    </tr>\n",
       "    <tr>\n",
       "      <td>11950</td>\n",
       "      <td>2014-02-02 07:00:00</td>\n",
       "      <td>None</td>\n",
       "      <td>83</td>\n",
       "      <td>1</td>\n",
       "      <td>210</td>\n",
       "      <td>9</td>\n",
       "      <td>9</td>\n",
       "      <td>0.0</td>\n",
       "      <td>0.0</td>\n",
       "      <td>0.0</td>\n",
       "      <td>0</td>\n",
       "      <td>Clear</td>\n",
       "      <td>143</td>\n",
       "      <td>962</td>\n",
       "    </tr>\n",
       "    <tr>\n",
       "      <td>11951</td>\n",
       "      <td>2014-02-02 08:00:00</td>\n",
       "      <td>None</td>\n",
       "      <td>83</td>\n",
       "      <td>0</td>\n",
       "      <td>0</td>\n",
       "      <td>6</td>\n",
       "      <td>6</td>\n",
       "      <td>0.0</td>\n",
       "      <td>0.0</td>\n",
       "      <td>0.0</td>\n",
       "      <td>0</td>\n",
       "      <td>Clear</td>\n",
       "      <td>187</td>\n",
       "      <td>1670</td>\n",
       "    </tr>\n",
       "  </tbody>\n",
       "</table>\n",
       "</div>"
      ],
      "text/plain": [
       "                 date_time is_holiday  humidity  wind_speed  wind_direction  \\\n",
       "11898  2014-01-31 03:00:00       None        78           2             320   \n",
       "11899  2014-01-31 04:00:00       None        77           3             310   \n",
       "11900  2014-01-31 05:00:00       None        84           3             310   \n",
       "11901  2014-01-31 06:00:00       None        84           4             320   \n",
       "11946  2014-02-02 03:00:00       None        70           0               0   \n",
       "11947  2014-02-02 04:00:00       None        76           0               0   \n",
       "11948  2014-02-02 05:00:00       None        83           2             220   \n",
       "11949  2014-02-02 06:00:00       None        83           0               0   \n",
       "11950  2014-02-02 07:00:00       None        83           1             210   \n",
       "11951  2014-02-02 08:00:00       None        83           0               0   \n",
       "\n",
       "       visibility_in_miles  dew_point  temperature  rain_p_h  snow_p_h  \\\n",
       "11898                    1          1          0.0       0.0       0.0   \n",
       "11899                    1          1          0.0       0.0       0.0   \n",
       "11900                    1          1          0.0       0.0       0.0   \n",
       "11901                    1          1          0.0       0.0       0.0   \n",
       "11946                    1          1          0.0       0.0       0.0   \n",
       "11947                    3          3          0.0       0.0       0.0   \n",
       "11948                    2          2          0.0       0.0       0.0   \n",
       "11949                    2          2          0.0       0.0       0.0   \n",
       "11950                    9          9          0.0       0.0       0.0   \n",
       "11951                    6          6          0.0       0.0       0.0   \n",
       "\n",
       "       clouds_all weather_type  air_pollution_index  traffic_volume  \n",
       "11898           0        Clear                   26             361  \n",
       "11899           0        Clear                   18             734  \n",
       "11900           0        Clear                  189            2557  \n",
       "11901           0        Clear                   12            5150  \n",
       "11946           0        Clear                  250             291  \n",
       "11947           0        Clear                  154             284  \n",
       "11948           0        Clear                  151             434  \n",
       "11949           0        Clear                  174             739  \n",
       "11950           0        Clear                  143             962  \n",
       "11951           0        Clear                  187            1670  "
      ]
     },
     "execution_count": 9,
     "metadata": {},
     "output_type": "execute_result"
    }
   ],
   "source": [
    "df.loc[[11898, 11899, 11900, 11901, 11946, 11947, 11948, 11949, 11950,\n",
    "        11951]]"
   ]
  },
  {
   "cell_type": "code",
   "execution_count": 75,
   "metadata": {},
   "outputs": [],
   "source": [
    "x=np.where(df['temperature']!=0.0)"
   ]
  },
  {
   "cell_type": "code",
   "execution_count": 76,
   "metadata": {},
   "outputs": [
    {
     "name": "stdout",
     "output_type": "stream",
     "text": [
      "(array([    0,     1,     2, ..., 33747, 33748, 33749], dtype=int64),)\n"
     ]
    }
   ],
   "source": [
    "print(x)"
   ]
  },
  {
   "cell_type": "code",
   "execution_count": 77,
   "metadata": {},
   "outputs": [
    {
     "name": "stdout",
     "output_type": "stream",
     "text": [
      "[    0     1     2 ... 33747 33748 33749]\n"
     ]
    }
   ],
   "source": [
    "x=x[0]\n",
    "print(x)"
   ]
  },
  {
   "cell_type": "code",
   "execution_count": 65,
   "metadata": {},
   "outputs": [],
   "source": [
    "p=df.iloc[x]"
   ]
  },
  {
   "cell_type": "code",
   "execution_count": 66,
   "metadata": {},
   "outputs": [
    {
     "data": {
      "text/plain": [
       "280.15"
      ]
     },
     "execution_count": 66,
     "metadata": {},
     "output_type": "execute_result"
    }
   ],
   "source": [
    "np.median(p['temperature'])"
   ]
  },
  {
   "cell_type": "code",
   "execution_count": 67,
   "metadata": {},
   "outputs": [
    {
     "data": {
      "text/plain": [
       "11898    0.0\n",
       "11899    0.0\n",
       "11900    0.0\n",
       "11901    0.0\n",
       "11946    0.0\n",
       "11947    0.0\n",
       "11948    0.0\n",
       "11949    0.0\n",
       "11950    0.0\n",
       "11951    0.0\n",
       "Name: temperature, dtype: float64"
      ]
     },
     "execution_count": 67,
     "metadata": {},
     "output_type": "execute_result"
    }
   ],
   "source": [
    "df['temperature'][[11898, 11899, 11900, 11901, 11946, 11947, 11948, 11949, 11950,\n",
    "        11951]]"
   ]
  },
  {
   "cell_type": "code",
   "execution_count": 52,
   "metadata": {},
   "outputs": [
    {
     "data": {
      "text/plain": [
       "0        288.28\n",
       "1        289.36\n",
       "2        289.58\n",
       "3        290.13\n",
       "4        291.14\n",
       "          ...  \n",
       "33745    287.88\n",
       "33746    286.95\n",
       "33747    286.95\n",
       "33748    285.75\n",
       "33749    285.75\n",
       "Name: temperature, Length: 33750, dtype: float64"
      ]
     },
     "execution_count": 52,
     "metadata": {},
     "output_type": "execute_result"
    }
   ],
   "source": [
    "df['temperature']"
   ]
  },
  {
   "cell_type": "code",
   "execution_count": 78,
   "metadata": {},
   "outputs": [],
   "source": [
    "for x in [11898, 11899, 11900, 11901, 11946, 11947, 11948, 11949, 11950,11951]:\n",
    "    df.loc[x,'temperature']=280.15 #assigning median to zero kelvin rows"
   ]
  },
  {
   "cell_type": "code",
   "execution_count": 79,
   "metadata": {},
   "outputs": [
    {
     "data": {
      "text/html": [
       "<div>\n",
       "<style scoped>\n",
       "    .dataframe tbody tr th:only-of-type {\n",
       "        vertical-align: middle;\n",
       "    }\n",
       "\n",
       "    .dataframe tbody tr th {\n",
       "        vertical-align: top;\n",
       "    }\n",
       "\n",
       "    .dataframe thead th {\n",
       "        text-align: right;\n",
       "    }\n",
       "</style>\n",
       "<table border=\"1\" class=\"dataframe\">\n",
       "  <thead>\n",
       "    <tr style=\"text-align: right;\">\n",
       "      <th></th>\n",
       "      <th>date_time</th>\n",
       "      <th>is_holiday</th>\n",
       "      <th>humidity</th>\n",
       "      <th>wind_speed</th>\n",
       "      <th>wind_direction</th>\n",
       "      <th>visibility_in_miles</th>\n",
       "      <th>dew_point</th>\n",
       "      <th>temperature</th>\n",
       "      <th>rain_p_h</th>\n",
       "      <th>snow_p_h</th>\n",
       "      <th>clouds_all</th>\n",
       "      <th>weather_type</th>\n",
       "      <th>air_pollution_index</th>\n",
       "      <th>traffic_volume</th>\n",
       "    </tr>\n",
       "  </thead>\n",
       "  <tbody>\n",
       "    <tr>\n",
       "      <td>11898</td>\n",
       "      <td>2014-01-31 03:00:00</td>\n",
       "      <td>None</td>\n",
       "      <td>78</td>\n",
       "      <td>2</td>\n",
       "      <td>320</td>\n",
       "      <td>1</td>\n",
       "      <td>1</td>\n",
       "      <td>280.15</td>\n",
       "      <td>0.0</td>\n",
       "      <td>0.0</td>\n",
       "      <td>0</td>\n",
       "      <td>Clear</td>\n",
       "      <td>26</td>\n",
       "      <td>361</td>\n",
       "    </tr>\n",
       "    <tr>\n",
       "      <td>11899</td>\n",
       "      <td>2014-01-31 04:00:00</td>\n",
       "      <td>None</td>\n",
       "      <td>77</td>\n",
       "      <td>3</td>\n",
       "      <td>310</td>\n",
       "      <td>1</td>\n",
       "      <td>1</td>\n",
       "      <td>280.15</td>\n",
       "      <td>0.0</td>\n",
       "      <td>0.0</td>\n",
       "      <td>0</td>\n",
       "      <td>Clear</td>\n",
       "      <td>18</td>\n",
       "      <td>734</td>\n",
       "    </tr>\n",
       "    <tr>\n",
       "      <td>11900</td>\n",
       "      <td>2014-01-31 05:00:00</td>\n",
       "      <td>None</td>\n",
       "      <td>84</td>\n",
       "      <td>3</td>\n",
       "      <td>310</td>\n",
       "      <td>1</td>\n",
       "      <td>1</td>\n",
       "      <td>280.15</td>\n",
       "      <td>0.0</td>\n",
       "      <td>0.0</td>\n",
       "      <td>0</td>\n",
       "      <td>Clear</td>\n",
       "      <td>189</td>\n",
       "      <td>2557</td>\n",
       "    </tr>\n",
       "    <tr>\n",
       "      <td>11901</td>\n",
       "      <td>2014-01-31 06:00:00</td>\n",
       "      <td>None</td>\n",
       "      <td>84</td>\n",
       "      <td>4</td>\n",
       "      <td>320</td>\n",
       "      <td>1</td>\n",
       "      <td>1</td>\n",
       "      <td>280.15</td>\n",
       "      <td>0.0</td>\n",
       "      <td>0.0</td>\n",
       "      <td>0</td>\n",
       "      <td>Clear</td>\n",
       "      <td>12</td>\n",
       "      <td>5150</td>\n",
       "    </tr>\n",
       "    <tr>\n",
       "      <td>11946</td>\n",
       "      <td>2014-02-02 03:00:00</td>\n",
       "      <td>None</td>\n",
       "      <td>70</td>\n",
       "      <td>0</td>\n",
       "      <td>0</td>\n",
       "      <td>1</td>\n",
       "      <td>1</td>\n",
       "      <td>280.15</td>\n",
       "      <td>0.0</td>\n",
       "      <td>0.0</td>\n",
       "      <td>0</td>\n",
       "      <td>Clear</td>\n",
       "      <td>250</td>\n",
       "      <td>291</td>\n",
       "    </tr>\n",
       "    <tr>\n",
       "      <td>11947</td>\n",
       "      <td>2014-02-02 04:00:00</td>\n",
       "      <td>None</td>\n",
       "      <td>76</td>\n",
       "      <td>0</td>\n",
       "      <td>0</td>\n",
       "      <td>3</td>\n",
       "      <td>3</td>\n",
       "      <td>280.15</td>\n",
       "      <td>0.0</td>\n",
       "      <td>0.0</td>\n",
       "      <td>0</td>\n",
       "      <td>Clear</td>\n",
       "      <td>154</td>\n",
       "      <td>284</td>\n",
       "    </tr>\n",
       "    <tr>\n",
       "      <td>11948</td>\n",
       "      <td>2014-02-02 05:00:00</td>\n",
       "      <td>None</td>\n",
       "      <td>83</td>\n",
       "      <td>2</td>\n",
       "      <td>220</td>\n",
       "      <td>2</td>\n",
       "      <td>2</td>\n",
       "      <td>280.15</td>\n",
       "      <td>0.0</td>\n",
       "      <td>0.0</td>\n",
       "      <td>0</td>\n",
       "      <td>Clear</td>\n",
       "      <td>151</td>\n",
       "      <td>434</td>\n",
       "    </tr>\n",
       "    <tr>\n",
       "      <td>11949</td>\n",
       "      <td>2014-02-02 06:00:00</td>\n",
       "      <td>None</td>\n",
       "      <td>83</td>\n",
       "      <td>0</td>\n",
       "      <td>0</td>\n",
       "      <td>2</td>\n",
       "      <td>2</td>\n",
       "      <td>280.15</td>\n",
       "      <td>0.0</td>\n",
       "      <td>0.0</td>\n",
       "      <td>0</td>\n",
       "      <td>Clear</td>\n",
       "      <td>174</td>\n",
       "      <td>739</td>\n",
       "    </tr>\n",
       "    <tr>\n",
       "      <td>11950</td>\n",
       "      <td>2014-02-02 07:00:00</td>\n",
       "      <td>None</td>\n",
       "      <td>83</td>\n",
       "      <td>1</td>\n",
       "      <td>210</td>\n",
       "      <td>9</td>\n",
       "      <td>9</td>\n",
       "      <td>280.15</td>\n",
       "      <td>0.0</td>\n",
       "      <td>0.0</td>\n",
       "      <td>0</td>\n",
       "      <td>Clear</td>\n",
       "      <td>143</td>\n",
       "      <td>962</td>\n",
       "    </tr>\n",
       "    <tr>\n",
       "      <td>11951</td>\n",
       "      <td>2014-02-02 08:00:00</td>\n",
       "      <td>None</td>\n",
       "      <td>83</td>\n",
       "      <td>0</td>\n",
       "      <td>0</td>\n",
       "      <td>6</td>\n",
       "      <td>6</td>\n",
       "      <td>280.15</td>\n",
       "      <td>0.0</td>\n",
       "      <td>0.0</td>\n",
       "      <td>0</td>\n",
       "      <td>Clear</td>\n",
       "      <td>187</td>\n",
       "      <td>1670</td>\n",
       "    </tr>\n",
       "  </tbody>\n",
       "</table>\n",
       "</div>"
      ],
      "text/plain": [
       "                 date_time is_holiday  humidity  wind_speed  wind_direction  \\\n",
       "11898  2014-01-31 03:00:00       None        78           2             320   \n",
       "11899  2014-01-31 04:00:00       None        77           3             310   \n",
       "11900  2014-01-31 05:00:00       None        84           3             310   \n",
       "11901  2014-01-31 06:00:00       None        84           4             320   \n",
       "11946  2014-02-02 03:00:00       None        70           0               0   \n",
       "11947  2014-02-02 04:00:00       None        76           0               0   \n",
       "11948  2014-02-02 05:00:00       None        83           2             220   \n",
       "11949  2014-02-02 06:00:00       None        83           0               0   \n",
       "11950  2014-02-02 07:00:00       None        83           1             210   \n",
       "11951  2014-02-02 08:00:00       None        83           0               0   \n",
       "\n",
       "       visibility_in_miles  dew_point  temperature  rain_p_h  snow_p_h  \\\n",
       "11898                    1          1       280.15       0.0       0.0   \n",
       "11899                    1          1       280.15       0.0       0.0   \n",
       "11900                    1          1       280.15       0.0       0.0   \n",
       "11901                    1          1       280.15       0.0       0.0   \n",
       "11946                    1          1       280.15       0.0       0.0   \n",
       "11947                    3          3       280.15       0.0       0.0   \n",
       "11948                    2          2       280.15       0.0       0.0   \n",
       "11949                    2          2       280.15       0.0       0.0   \n",
       "11950                    9          9       280.15       0.0       0.0   \n",
       "11951                    6          6       280.15       0.0       0.0   \n",
       "\n",
       "       clouds_all weather_type  air_pollution_index  traffic_volume  \n",
       "11898           0        Clear                   26             361  \n",
       "11899           0        Clear                   18             734  \n",
       "11900           0        Clear                  189            2557  \n",
       "11901           0        Clear                   12            5150  \n",
       "11946           0        Clear                  250             291  \n",
       "11947           0        Clear                  154             284  \n",
       "11948           0        Clear                  151             434  \n",
       "11949           0        Clear                  174             739  \n",
       "11950           0        Clear                  143             962  \n",
       "11951           0        Clear                  187            1670  "
      ]
     },
     "execution_count": 79,
     "metadata": {},
     "output_type": "execute_result"
    }
   ],
   "source": [
    "df.loc[[11898, 11899, 11900, 11901, 11946, 11947, 11948, 11949, 11950,\n",
    "        11951]]"
   ]
  },
  {
   "cell_type": "code",
   "execution_count": 80,
   "metadata": {},
   "outputs": [
    {
     "name": "stdout",
     "output_type": "stream",
     "text": [
      "zero 1971\n",
      "total  33750\n"
     ]
    }
   ],
   "source": [
    "print(\"zero\",len(np.where(df['clouds_all']==0)[0]))\n",
    "print(\"total \",len(df['clouds_all']))\n"
   ]
  },
  {
   "cell_type": "code",
   "execution_count": 39,
   "metadata": {},
   "outputs": [
    {
     "data": {
      "text/plain": [
       "Text(0.5, 0, 'traffic')"
      ]
     },
     "execution_count": 39,
     "metadata": {},
     "output_type": "execute_result"
    },
    {
     "data": {
      "image/png": "[encoded data removed]",
      "text/plain": [
       "<Figure size 1152x432 with 1 Axes>"
      ]
     },
     "metadata": {
      "needs_background": "light"
     },
     "output_type": "display_data"
    }
   ],
   "source": [
    "plt.figure(figsize=(16,6))\n",
    "plt.hist(df['traffic_volume'])\n",
    "plt.xlabel('traffic')\n",
    "#plt.ylabel('air pol index')\n"
   ]
  },
  {
   "cell_type": "code",
   "execution_count": 40,
   "metadata": {},
   "outputs": [
    {
     "data": {
      "text/plain": [
       "Index(['date_time', 'is_holiday', 'humidity', 'wind_speed', 'wind_direction',\n",
       "       'visibility_in_miles', 'dew_point', 'temperature', 'rain_p_h',\n",
       "       'snow_p_h', 'clouds_all', 'weather_type', 'air_pollution_index',\n",
       "       'traffic_volume'],\n",
       "      dtype='object')"
      ]
     },
     "execution_count": 40,
     "metadata": {},
     "output_type": "execute_result"
    }
   ],
   "source": [
    "df.columns"
   ]
  },
  {
   "cell_type": "code",
   "execution_count": null,
   "metadata": {},
   "outputs": [],
   "source": [
    "dfr=df.copy(deep=True)"
   ]
  },
  {
   "cell_type": "code",
   "execution_count": 42,
   "metadata": {},
   "outputs": [],
   "source": [
    "numeric=['humidity', 'wind_speed', 'wind_direction',\n",
    "       'visibility_in_miles', 'dew_point', 'temperature', 'rain_p_h',\n",
    "       'snow_p_h', 'clouds_all', 'air_pollution_index',\n",
    "       'traffic_volume']\n",
    "for x in numeric:\n",
    "    df[x]=(df[x]-df[x].mean())/df[x].std()\n"
   ]
  },
  {
   "cell_type": "code",
   "execution_count": 44,
   "metadata": {},
   "outputs": [
    {
     "data": {
      "text/plain": [
       "weather_type\n",
       "Clear           0.013677\n",
       "Clouds         -0.003376\n",
       "Drizzle        -0.010842\n",
       "Fog             0.016806\n",
       "Haze           -0.033073\n",
       "Mist           -0.009736\n",
       "Rain           -0.011431\n",
       "Smoke          -0.040256\n",
       "Snow            0.024129\n",
       "Squall          0.351208\n",
       "Thunderstorm   -0.038512\n",
       "Name: air_pollution_index, dtype: float64"
      ]
     },
     "execution_count": 44,
     "metadata": {},
     "output_type": "execute_result"
    }
   ],
   "source": [
    "df.groupby('weather_type')['air_pollution_index'].mean()"
   ]
  },
  {
   "cell_type": "code",
   "execution_count": 81,
   "metadata": {},
   "outputs": [
    {
     "data": {
      "text/html": [
       "<div>\n",
       "<style scoped>\n",
       "    .dataframe tbody tr th:only-of-type {\n",
       "        vertical-align: middle;\n",
       "    }\n",
       "\n",
       "    .dataframe tbody tr th {\n",
       "        vertical-align: top;\n",
       "    }\n",
       "\n",
       "    .dataframe thead th {\n",
       "        text-align: right;\n",
       "    }\n",
       "</style>\n",
       "<table border=\"1\" class=\"dataframe\">\n",
       "  <thead>\n",
       "    <tr style=\"text-align: right;\">\n",
       "      <th></th>\n",
       "      <th>humidity</th>\n",
       "      <th>wind_speed</th>\n",
       "      <th>wind_direction</th>\n",
       "      <th>visibility_in_miles</th>\n",
       "      <th>dew_point</th>\n",
       "      <th>temperature</th>\n",
       "      <th>rain_p_h</th>\n",
       "      <th>snow_p_h</th>\n",
       "      <th>clouds_all</th>\n",
       "      <th>air_pollution_index</th>\n",
       "      <th>traffic_volume</th>\n",
       "    </tr>\n",
       "  </thead>\n",
       "  <tbody>\n",
       "    <tr>\n",
       "      <td>humidity</td>\n",
       "      <td>1.000000</td>\n",
       "      <td>-0.147042</td>\n",
       "      <td>-0.046268</td>\n",
       "      <td>0.005510</td>\n",
       "      <td>0.005510</td>\n",
       "      <td>0.039154</td>\n",
       "      <td>-0.012161</td>\n",
       "      <td>0.016625</td>\n",
       "      <td>0.014520</td>\n",
       "      <td>-0.000277</td>\n",
       "      <td>0.016455</td>\n",
       "    </tr>\n",
       "    <tr>\n",
       "      <td>wind_speed</td>\n",
       "      <td>-0.147042</td>\n",
       "      <td>1.000000</td>\n",
       "      <td>0.191320</td>\n",
       "      <td>-0.005160</td>\n",
       "      <td>-0.005160</td>\n",
       "      <td>-0.062699</td>\n",
       "      <td>0.001165</td>\n",
       "      <td>-0.006534</td>\n",
       "      <td>-0.004456</td>\n",
       "      <td>-0.004166</td>\n",
       "      <td>0.016329</td>\n",
       "    </tr>\n",
       "    <tr>\n",
       "      <td>wind_direction</td>\n",
       "      <td>-0.046268</td>\n",
       "      <td>0.191320</td>\n",
       "      <td>1.000000</td>\n",
       "      <td>0.000716</td>\n",
       "      <td>0.000716</td>\n",
       "      <td>-0.051150</td>\n",
       "      <td>0.002230</td>\n",
       "      <td>0.000321</td>\n",
       "      <td>0.020392</td>\n",
       "      <td>0.000749</td>\n",
       "      <td>0.014278</td>\n",
       "    </tr>\n",
       "    <tr>\n",
       "      <td>visibility_in_miles</td>\n",
       "      <td>0.005510</td>\n",
       "      <td>-0.005160</td>\n",
       "      <td>0.000716</td>\n",
       "      <td>1.000000</td>\n",
       "      <td>1.000000</td>\n",
       "      <td>-0.005093</td>\n",
       "      <td>-0.008301</td>\n",
       "      <td>0.001453</td>\n",
       "      <td>-0.001582</td>\n",
       "      <td>0.003499</td>\n",
       "      <td>0.001348</td>\n",
       "    </tr>\n",
       "    <tr>\n",
       "      <td>dew_point</td>\n",
       "      <td>0.005510</td>\n",
       "      <td>-0.005160</td>\n",
       "      <td>0.000716</td>\n",
       "      <td>1.000000</td>\n",
       "      <td>1.000000</td>\n",
       "      <td>-0.005093</td>\n",
       "      <td>-0.008301</td>\n",
       "      <td>0.001453</td>\n",
       "      <td>-0.001582</td>\n",
       "      <td>0.003499</td>\n",
       "      <td>0.001348</td>\n",
       "    </tr>\n",
       "    <tr>\n",
       "      <td>temperature</td>\n",
       "      <td>0.039154</td>\n",
       "      <td>-0.062699</td>\n",
       "      <td>-0.051150</td>\n",
       "      <td>-0.005093</td>\n",
       "      <td>-0.005093</td>\n",
       "      <td>1.000000</td>\n",
       "      <td>0.011808</td>\n",
       "      <td>-0.022421</td>\n",
       "      <td>-0.138630</td>\n",
       "      <td>0.003817</td>\n",
       "      <td>0.130629</td>\n",
       "    </tr>\n",
       "    <tr>\n",
       "      <td>rain_p_h</td>\n",
       "      <td>-0.012161</td>\n",
       "      <td>0.001165</td>\n",
       "      <td>0.002230</td>\n",
       "      <td>-0.008301</td>\n",
       "      <td>-0.008301</td>\n",
       "      <td>0.011808</td>\n",
       "      <td>1.000000</td>\n",
       "      <td>-0.000159</td>\n",
       "      <td>0.005206</td>\n",
       "      <td>0.000443</td>\n",
       "      <td>0.005642</td>\n",
       "    </tr>\n",
       "    <tr>\n",
       "      <td>snow_p_h</td>\n",
       "      <td>0.016625</td>\n",
       "      <td>-0.006534</td>\n",
       "      <td>0.000321</td>\n",
       "      <td>0.001453</td>\n",
       "      <td>0.001453</td>\n",
       "      <td>-0.022421</td>\n",
       "      <td>-0.000159</td>\n",
       "      <td>1.000000</td>\n",
       "      <td>0.032591</td>\n",
       "      <td>0.007227</td>\n",
       "      <td>0.001197</td>\n",
       "    </tr>\n",
       "    <tr>\n",
       "      <td>clouds_all</td>\n",
       "      <td>0.014520</td>\n",
       "      <td>-0.004456</td>\n",
       "      <td>0.020392</td>\n",
       "      <td>-0.001582</td>\n",
       "      <td>-0.001582</td>\n",
       "      <td>-0.138630</td>\n",
       "      <td>0.005206</td>\n",
       "      <td>0.032591</td>\n",
       "      <td>1.000000</td>\n",
       "      <td>-0.008541</td>\n",
       "      <td>0.037922</td>\n",
       "    </tr>\n",
       "    <tr>\n",
       "      <td>air_pollution_index</td>\n",
       "      <td>-0.000277</td>\n",
       "      <td>-0.004166</td>\n",
       "      <td>0.000749</td>\n",
       "      <td>0.003499</td>\n",
       "      <td>0.003499</td>\n",
       "      <td>0.003817</td>\n",
       "      <td>0.000443</td>\n",
       "      <td>0.007227</td>\n",
       "      <td>-0.008541</td>\n",
       "      <td>1.000000</td>\n",
       "      <td>-0.003751</td>\n",
       "    </tr>\n",
       "    <tr>\n",
       "      <td>traffic_volume</td>\n",
       "      <td>0.016455</td>\n",
       "      <td>0.016329</td>\n",
       "      <td>0.014278</td>\n",
       "      <td>0.001348</td>\n",
       "      <td>0.001348</td>\n",
       "      <td>0.130629</td>\n",
       "      <td>0.005642</td>\n",
       "      <td>0.001197</td>\n",
       "      <td>0.037922</td>\n",
       "      <td>-0.003751</td>\n",
       "      <td>1.000000</td>\n",
       "    </tr>\n",
       "  </tbody>\n",
       "</table>\n",
       "</div>"
      ],
      "text/plain": [
       "                     humidity  wind_speed  wind_direction  \\\n",
       "humidity             1.000000   -0.147042       -0.046268   \n",
       "wind_speed          -0.147042    1.000000        0.191320   \n",
       "wind_direction      -0.046268    0.191320        1.000000   \n",
       "visibility_in_miles  0.005510   -0.005160        0.000716   \n",
       "dew_point            0.005510   -0.005160        0.000716   \n",
       "temperature          0.039154   -0.062699       -0.051150   \n",
       "rain_p_h            -0.012161    0.001165        0.002230   \n",
       "snow_p_h             0.016625   -0.006534        0.000321   \n",
       "clouds_all           0.014520   -0.004456        0.020392   \n",
       "air_pollution_index -0.000277   -0.004166        0.000749   \n",
       "traffic_volume       0.016455    0.016329        0.014278   \n",
       "\n",
       "                     visibility_in_miles  dew_point  temperature  rain_p_h  \\\n",
       "humidity                        0.005510   0.005510     0.039154 -0.012161   \n",
       "wind_speed                     -0.005160  -0.005160    -0.062699  0.001165   \n",
       "wind_direction                  0.000716   0.000716    -0.051150  0.002230   \n",
       "visibility_in_miles             1.000000   1.000000    -0.005093 -0.008301   \n",
       "dew_point                       1.000000   1.000000    -0.005093 -0.008301   \n",
       "temperature                    -0.005093  -0.005093     1.000000  0.011808   \n",
       "rain_p_h                       -0.008301  -0.008301     0.011808  1.000000   \n",
       "snow_p_h                        0.001453   0.001453    -0.022421 -0.000159   \n",
       "clouds_all                     -0.001582  -0.001582    -0.138630  0.005206   \n",
       "air_pollution_index             0.003499   0.003499     0.003817  0.000443   \n",
       "traffic_volume                  0.001348   0.001348     0.130629  0.005642   \n",
       "\n",
       "                     snow_p_h  clouds_all  air_pollution_index  traffic_volume  \n",
       "humidity             0.016625    0.014520            -0.000277        0.016455  \n",
       "wind_speed          -0.006534   -0.004456            -0.004166        0.016329  \n",
       "wind_direction       0.000321    0.020392             0.000749        0.014278  \n",
       "visibility_in_miles  0.001453   -0.001582             0.003499        0.001348  \n",
       "dew_point            0.001453   -0.001582             0.003499        0.001348  \n",
       "temperature         -0.022421   -0.138630             0.003817        0.130629  \n",
       "rain_p_h            -0.000159    0.005206             0.000443        0.005642  \n",
       "snow_p_h             1.000000    0.032591             0.007227        0.001197  \n",
       "clouds_all           0.032591    1.000000            -0.008541        0.037922  \n",
       "air_pollution_index  0.007227   -0.008541             1.000000       -0.003751  \n",
       "traffic_volume       0.001197    0.037922            -0.003751        1.000000  "
      ]
     },
     "execution_count": 81,
     "metadata": {},
     "output_type": "execute_result"
    }
   ],
   "source": [
    "pearsoncorr = df.corr(method='pearson')\n",
    "pearsoncorr"
   ]
  },
  {
   "cell_type": "code",
   "execution_count": 83,
   "metadata": {},
   "outputs": [
    {
     "data": {
      "text/plain": [
       "humidity              -0.000277\n",
       "wind_speed            -0.004166\n",
       "wind_direction         0.000749\n",
       "visibility_in_miles    0.003499\n",
       "dew_point              0.003499\n",
       "temperature            0.003817\n",
       "rain_p_h               0.000443\n",
       "snow_p_h               0.007227\n",
       "clouds_all            -0.008541\n",
       "air_pollution_index    1.000000\n",
       "traffic_volume        -0.003751\n",
       "Name: air_pollution_index, dtype: float64"
      ]
     },
     "execution_count": 83,
     "metadata": {},
     "output_type": "execute_result"
    }
   ],
   "source": [
    "pearsoncorr['air_pollution_index']"
   ]
  },
  {
   "cell_type": "code",
   "execution_count": 86,
   "metadata": {},
   "outputs": [
    {
     "data": {
      "text/plain": [
       "humidity              -0.000277\n",
       "wind_speed            -0.004166\n",
       "wind_direction         0.000749\n",
       "visibility_in_miles    0.003499\n",
       "dew_point              0.003499\n",
       "temperature            0.003817\n",
       "rain_p_h               0.000443\n",
       "snow_p_h               0.007227\n",
       "clouds_all            -0.008541\n",
       "air_pollution_index    1.000000\n",
       "traffic_volume        -0.003751\n",
       "Name: air_pollution_index, dtype: float64"
      ]
     },
     "execution_count": 86,
     "metadata": {},
     "output_type": "execute_result"
    }
   ],
   "source": [
    "corrmat = df.corr()\n",
    "corrmat['air_pollution_index']"
   ]
  },
  {
   "cell_type": "code",
   "execution_count": 87,
   "metadata": {},
   "outputs": [
    {
     "data": {
      "text/plain": [
       "humidity              -0.000414\n",
       "wind_speed            -0.002923\n",
       "wind_direction         0.000023\n",
       "visibility_in_miles    0.002488\n",
       "dew_point              0.002488\n",
       "temperature            0.002454\n",
       "rain_p_h               0.001970\n",
       "snow_p_h               0.000692\n",
       "clouds_all            -0.007011\n",
       "air_pollution_index    1.000000\n",
       "traffic_volume        -0.003091\n",
       "Name: air_pollution_index, dtype: float64"
      ]
     },
     "execution_count": 87,
     "metadata": {},
     "output_type": "execute_result"
    }
   ],
   "source": [
    "corrk = df.corr(method='kendall')\n",
    "corrk['air_pollution_index']"
   ]
  }
 ],
 "metadata": {
  "kernelspec": {
   "display_name": "Python 3",
   "language": "python",
   "name": "python3"
  },
  "language_info": {
   "codemirror_mode": {
    "name": "ipython",
    "version": 3
   },
   "file_extension": ".py",
   "mimetype": "text/x-python",
   "name": "python",
   "nbconvert_exporter": "python",
   "pygments_lexer": "ipython3",
   "version": "3.7.4"
  }
 },
 "nbformat": 4,
 "nbformat_minor": 4
}
